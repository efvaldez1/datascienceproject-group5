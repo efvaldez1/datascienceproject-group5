{
 "cells": [
  {
   "cell_type": "markdown",
   "id": "02223c97",
   "metadata": {},
   "source": [
    "# GFHS Dataset Profiling\n",
    "___\n",
    "\n",
    "**Author: Dale Lim**\n",
    "\n",
    "**Date: 25/08/2021**\n",
    "\n",
    "The goal of this notebook is to provide a brief and concise profile of the sample, or the respondents to the COVID-19 High Frequency Survey (GFHS) 2020 wave 1. In this exploratory exercise, we are interested in characterizing the respondents according to their location, sex, age, educational attainment, employment status, and income. "
   ]
  },
  {
   "cell_type": "markdown",
   "id": "91f8ffad",
   "metadata": {},
   "source": [
    "## Preliminaries\n",
    "___\n",
    "\n",
    "### Importing\n",
    "We will mainly use the following Python libraries:\n",
    "- Pandas, mainly for for data manipulation, and\n",
    "- Matplotlib, for data visualization."
   ]
  },
  {
   "cell_type": "code",
   "execution_count": 1,
   "id": "23758de2",
   "metadata": {},
   "outputs": [],
   "source": [
    "# Import necessary packages\n",
    "import numpy as np\n",
    "import pandas as pd\n",
    "import matplotlib.pyplot as plt\n",
    "\n",
    "# Set style to use by matplotlib\n",
    "plt.style.use(\"seaborn-notebook\")"
   ]
  },
  {
   "cell_type": "markdown",
   "id": "3ff9bd39",
   "metadata": {},
   "source": [
    "### DataFrame shape"
   ]
  },
  {
   "cell_type": "markdown",
   "id": "418469aa",
   "metadata": {},
   "source": [
    "We import the raw data csv provided to us, and examine the shape of the DataFrame. There are 1,986 rows (or observations) present with 245 columns (or variables). "
   ]
  },
  {
   "cell_type": "code",
   "execution_count": 2,
   "id": "ab484eec",
   "metadata": {},
   "outputs": [
    {
     "data": {
      "text/plain": [
       "(1986, 245)"
      ]
     },
     "execution_count": 2,
     "metadata": {},
     "output_type": "execute_result"
    }
   ],
   "source": [
    "# Import main dataframe and examine shape\n",
    "df = pd.read_csv(\"data/Data.csv\")\n",
    "df.shape"
   ]
  },
  {
   "cell_type": "markdown",
   "id": "b3ad51de",
   "metadata": {},
   "source": [
    "### Defining objects and functions\n",
    "\n",
    "Throughout each variable we will examine, a common underlying number code for non-responses are the following. So let's take the opportunity to define it now. "
   ]
  },
  {
   "cell_type": "code",
   "execution_count": 3,
   "id": "c33da608",
   "metadata": {},
   "outputs": [],
   "source": [
    "non_responses = {-1:\"dk\", -2:\"ra\", -3:\"interviewer error\", -7:\"legal skip\", -9:\"broke off\"}"
   ]
  },
  {
   "cell_type": "markdown",
   "id": "d9d39ae0",
   "metadata": {},
   "source": [
    "This is also a good opportunity to set up two functions that we will keep on using for later: the first for counting how many non-responses there are in a Series, defined by `non-responses`, and the second for converting a `value_counts()` table into one with the correct legends. "
   ]
  },
  {
   "cell_type": "code",
   "execution_count": 4,
   "id": "65900d74",
   "metadata": {},
   "outputs": [],
   "source": [
    "# A function that counts how many non-responses there are in a DataFrame column\n",
    "def count_non_response(col):\n",
    "    total = 0\n",
    "    for x in non_responses.keys():\n",
    "        # Attempt to find the listed non-responses\n",
    "        try:\n",
    "            total += col.value_counts()[x]\n",
    "        # In case no non-responses...\n",
    "        except KeyError:\n",
    "            # ...pass through the Key Error\n",
    "            pass\n",
    "    return total\n",
    "\n",
    "# A function that converts the value_counts table from having a number code index into what they really mean\n",
    "def mapped_value_counts(series, mapping, normalize=True):\n",
    "    return series.map(mapping, na_action=\"ignore\").value_counts(normalize=normalize)"
   ]
  },
  {
   "cell_type": "markdown",
   "id": "8fa7d4a5",
   "metadata": {
    "scrolled": true
   },
   "source": [
    "## Profiling proper\n",
    "___\n",
    "\n",
    "Once again, we are interested in describing the sample with the following characteristics:\n",
    "1. Location\n",
    "2. Sex\n",
    "3. Age\n",
    "4. Educational attainment\n",
    "5. Employment status\n",
    "6. Income"
   ]
  },
  {
   "cell_type": "markdown",
   "id": "9fc1f19e",
   "metadata": {},
   "source": [
    "### 1. Location\n",
    "We use the `settlement` variable, which has four possible outcomes: Urban, Small Town, Rural, and Capital. With it, we create a frequency table of the sample on where they live. Employing the function that we just made, we don't find any non-responses for this particular question/variable."
   ]
  },
  {
   "cell_type": "code",
   "execution_count": 5,
   "id": "917d8500",
   "metadata": {},
   "outputs": [
    {
     "data": {
      "text/plain": [
       "0"
      ]
     },
     "execution_count": 5,
     "metadata": {},
     "output_type": "execute_result"
    }
   ],
   "source": [
    "count_non_response(df.settlement)"
   ]
  },
  {
   "cell_type": "markdown",
   "id": "0e1ecc0f",
   "metadata": {},
   "source": [
    "There are four possible answers to the question: `Urban`, `Rural`, `Small Town`, and `Capital`. For the sake of streamlined results, let's combine `Small Town` and `Rural` into a single `Rural` category.\n",
    "\n",
    "We see that the majority of the sample lives in the capital city, Tblisi, at 37.66 percent of the population. The next largest group is in the rural category at 32.58 percent. The urban category, which are urban centers other than the capital represent 29.76 percent of the sample."
   ]
  },
  {
   "cell_type": "code",
   "execution_count": 6,
   "id": "3c5be382",
   "metadata": {},
   "outputs": [
    {
     "data": {
      "text/plain": [
       "Capital    37.66\n",
       "Rural      32.58\n",
       "Urban      29.76\n",
       "Name: settlement, dtype: float64"
      ]
     },
     "execution_count": 6,
     "metadata": {},
     "output_type": "execute_result"
    }
   ],
   "source": [
    "# Create a dictionary that maps the number codes to what they really mean\n",
    "settlement_conversion = {1: \"Urban\", 2: \"Rural\", 3: \"Rural\", 4: \"Capital\"}\n",
    "\n",
    "# Produce the frequency table of location\n",
    "location = mapped_value_counts(df.settlement, settlement_conversion).round(4) * 100\n",
    "location"
   ]
  },
  {
   "cell_type": "markdown",
   "id": "6262e948",
   "metadata": {},
   "source": [
    "Together, people who live in urban areas (including the capital) make up about 67.42 percent, or about a third of the sample."
   ]
  },
  {
   "cell_type": "code",
   "execution_count": 7,
   "id": "490efc4f",
   "metadata": {},
   "outputs": [
    {
     "name": "stdout",
     "output_type": "stream",
     "text": [
      "67.42 percent of the population live in urban areas including the capital.\n"
     ]
    }
   ],
   "source": [
    "# Add `Capital` and `Urban` together\n",
    "urban_total = round((location.Capital + location.Urban), 2)\n",
    "text = \"{} percent of the population live in urban areas including the capital.\".format(urban_total)\n",
    "print(text)"
   ]
  },
  {
   "cell_type": "markdown",
   "id": "08fb6c8e",
   "metadata": {},
   "source": [
    "### 2. Age\n",
    "We are interested in the `age` variable to create a distribution of the sample across age groups. It seems that  there are no non-responses."
   ]
  },
  {
   "cell_type": "code",
   "execution_count": 8,
   "id": "e1f25574",
   "metadata": {},
   "outputs": [
    {
     "data": {
      "text/plain": [
       "0"
      ]
     },
     "execution_count": 8,
     "metadata": {},
     "output_type": "execute_result"
    }
   ],
   "source": [
    "count_non_response(df.age)"
   ]
  },
  {
   "cell_type": "markdown",
   "id": "11575545",
   "metadata": {},
   "source": [
    "Since the scope of the sample only covers adults (i.e. aged 18 and above), it is indeed the case when we verify it. "
   ]
  },
  {
   "cell_type": "code",
   "execution_count": 9,
   "id": "14d0ecdd",
   "metadata": {},
   "outputs": [
    {
     "data": {
      "text/plain": [
       "18"
      ]
     },
     "execution_count": 9,
     "metadata": {},
     "output_type": "execute_result"
    }
   ],
   "source": [
    "df.age.min()"
   ]
  },
  {
   "cell_type": "markdown",
   "id": "907b398a",
   "metadata": {},
   "source": [
    "Next, we will create a frequency tabble with ages grouped into ranges, i.e. ages 25-34, etc. and then proceed to produce a visualization of the table in the form of a bar graph. We see from the table and the figure that the age cohort with the largest number of people in the sample are ages 35-44 with 20.8 percent, with the next highest group, ages 45-54, coming close at 19.08 percent. "
   ]
  },
  {
   "cell_type": "code",
   "execution_count": 10,
   "id": "b20a2803",
   "metadata": {},
   "outputs": [
    {
     "name": "stdout",
     "output_type": "stream",
     "text": [
      "18-24     7.96\n",
      "25-34    16.82\n",
      "35-44    20.80\n",
      "45-54    19.08\n",
      "55-64    18.48\n",
      "65-74    12.59\n",
      "75-84     3.98\n",
      "84+       0.30\n",
      "Name: age, dtype: float64\n"
     ]
    },
    {
     "data": {
      "image/png": "[encoded data removed]",
      "text/plain": [
       "<Figure size 576x396 with 1 Axes>"
      ]
     },
     "metadata": {
      "needs_background": "light"
     },
     "output_type": "display_data"
    }
   ],
   "source": [
    "# Define bins\n",
    "bins_10 = [0,17,24,34,44,54,64,74,84,94]\n",
    "\n",
    "# Generate frequency table of age with bins_10, and select only 18 years old and up\n",
    "age = (df.age.value_counts(bins=bins_10, normalize=True).sort_index().round(4) * 100)[1:15]\n",
    "\n",
    "# Change index to nicer looking labels\n",
    "age.index = pd.Series([\"18-24\", \"25-34\",\"35-44\",\"45-54\",\"55-64\",\"65-74\",\"75-84\",\"84+\"])\n",
    "print(age)\n",
    "\n",
    "# Plot and show\n",
    "age.plot(kind=\"bar\", rot=0, colormap=\"viridis\")\n",
    "plt.show()"
   ]
  },
  {
   "cell_type": "markdown",
   "id": "b9634457",
   "metadata": {},
   "source": [
    "### 3. Sex\n",
    "\n",
    "For `sex`, we just want to find out a simple proportion of the sample's sex. Again, there are no non-responses."
   ]
  },
  {
   "cell_type": "code",
   "execution_count": 11,
   "id": "b2767b33",
   "metadata": {},
   "outputs": [
    {
     "data": {
      "text/plain": [
       "0"
      ]
     },
     "execution_count": 11,
     "metadata": {},
     "output_type": "execute_result"
    }
   ],
   "source": [
    "count_non_response(df.sex)"
   ]
  },
  {
   "cell_type": "code",
   "execution_count": 12,
   "id": "297ac214",
   "metadata": {},
   "outputs": [
    {
     "data": {
      "text/plain": [
       "female    55.09\n",
       "male      44.91\n",
       "Name: sex, dtype: float64"
      ]
     },
     "execution_count": 12,
     "metadata": {},
     "output_type": "execute_result"
    }
   ],
   "source": [
    "# What percent of the sample is male or female?\n",
    "mapped_value_counts(df.sex, {1:\"male\", 2:\"female\"}).round(4) * 100"
   ]
  },
  {
   "cell_type": "markdown",
   "id": "5c1b211e",
   "metadata": {},
   "source": [
    "### 4. Educational attainment\n",
    "\n",
    "For educational attainment, we are interested in `q11` which contains the highest educational attainment of the respondents. Once again, no non-resnposes so far. \n",
    "\n",
    "It is surprising that the masters or doctor-equivalent of educational attainment is the largest group represented here in the sample. Perhaps there is considerable bias in the selection of the sample that is skewed towards the more educated. "
   ]
  },
  {
   "cell_type": "code",
   "execution_count": 13,
   "id": "5c6596c9",
   "metadata": {},
   "outputs": [
    {
     "data": {
      "text/plain": [
       "0"
      ]
     },
     "execution_count": 13,
     "metadata": {},
     "output_type": "execute_result"
    }
   ],
   "source": [
    "count_non_response(df.q11)"
   ]
  },
  {
   "cell_type": "code",
   "execution_count": 14,
   "id": "c95e4411",
   "metadata": {},
   "outputs": [
    {
     "data": {
      "text/plain": [
       "masters, doctor-equivalent        31.82\n",
       "upper secondary                   31.72\n",
       "secondary technical/vocational    18.33\n",
       "current bachelor's                16.11\n",
       "lower secondary                    1.81\n",
       "no primary                         0.15\n",
       "primary                            0.05\n",
       "Name: q11, dtype: float64"
      ]
     },
     "execution_count": 14,
     "metadata": {},
     "output_type": "execute_result"
    }
   ],
   "source": [
    "# A dictionary that converts number codes to what they really mean\n",
    "q11_conversion = {1: \"no primary\",\n",
    "                  2: \"primary\",\n",
    "                  3: \"lower secondary\",\n",
    "                  4: \"upper secondary\",\n",
    "                  5: \"secondary technical/vocational\",\n",
    "                  6: \"current bachelor's\",\n",
    "                  7: \"masters, doctor-equivalent\"}\n",
    "\n",
    "mapped_value_counts(df.q11, q11_conversion).round(4) * 100"
   ]
  },
  {
   "cell_type": "markdown",
   "id": "14cd256a",
   "metadata": {},
   "source": [
    "### 5. Employment status\n",
    "\n",
    "We look into `q21` and `q24` for the employment status before and after the pandemic respectively--either employed and unemployed. We find 6 non-responses for both."
   ]
  },
  {
   "cell_type": "code",
   "execution_count": 15,
   "id": "a0665548",
   "metadata": {},
   "outputs": [
    {
     "name": "stdout",
     "output_type": "stream",
     "text": [
      "6\n",
      "6\n"
     ]
    }
   ],
   "source": [
    "for col in [\"q21\", \"q24\"]:\n",
    "    print(count_non_response(df[col]))"
   ]
  },
  {
   "cell_type": "markdown",
   "id": "ad02d3f4",
   "metadata": {},
   "source": [
    "The variable `q21` and `q24` essentially asks whether the respondent is employed before the pandemic. The employment rate before the pandemic was 42.88 percent, while it dropped to 38.38 percent during the pandemic."
   ]
  },
  {
   "cell_type": "code",
   "execution_count": 16,
   "id": "f3240bf2",
   "metadata": {},
   "outputs": [
    {
     "data": {
      "text/html": [
       "<div>\n",
       "<style scoped>\n",
       "    .dataframe tbody tr th:only-of-type {\n",
       "        vertical-align: middle;\n",
       "    }\n",
       "\n",
       "    .dataframe tbody tr th {\n",
       "        vertical-align: top;\n",
       "    }\n",
       "\n",
       "    .dataframe thead th {\n",
       "        text-align: right;\n",
       "    }\n",
       "</style>\n",
       "<table border=\"1\" class=\"dataframe\">\n",
       "  <thead>\n",
       "    <tr style=\"text-align: right;\">\n",
       "      <th></th>\n",
       "      <th>q21</th>\n",
       "      <th>q24</th>\n",
       "    </tr>\n",
       "  </thead>\n",
       "  <tbody>\n",
       "    <tr>\n",
       "      <th>no</th>\n",
       "      <td>57.12</td>\n",
       "      <td>38.38</td>\n",
       "    </tr>\n",
       "    <tr>\n",
       "      <th>yes</th>\n",
       "      <td>42.88</td>\n",
       "      <td>61.62</td>\n",
       "    </tr>\n",
       "  </tbody>\n",
       "</table>\n",
       "</div>"
      ],
      "text/plain": [
       "       q21    q24\n",
       "no   57.12  38.38\n",
       "yes  42.88  61.62"
      ]
     },
     "execution_count": 16,
     "metadata": {},
     "output_type": "execute_result"
    }
   ],
   "source": [
    "# Get pre and during employment\n",
    "employment_pre = mapped_value_counts(df.q21.apply(lambda x:np.NaN if x < 0 else x), {0:\"yes\", 1:\"no\"}).round(4) * 100\n",
    "employment_during = mapped_value_counts(df.q24.apply(lambda x:np.NaN if x < 0 else x), {0:\"yes\", 1:\"no\"}).round(4) * 100\n",
    "\n",
    "# Concatenate the two series into one DataFrame\n",
    "employment = pd.concat([employment_pre, employment_during], axis=1)\n",
    "\n",
    "# Compare employment rates pre- and during pandemic\n",
    "(employment / employment.sum() * 100).round(2)"
   ]
  },
  {
   "cell_type": "markdown",
   "id": "0aa541c4",
   "metadata": {},
   "source": [
    "As for the people who are employed, we want to know where they work. However, there is a large amount of non-responses for this question--862 non-responses, so we'll have to interpret the numbers carefully.. Among those who responded, a majority are part of the private sector at 46.0 percent, while the next largest groups are government at 26.16 and self-employed at 25.44 percents."
   ]
  },
  {
   "cell_type": "code",
   "execution_count": 17,
   "id": "e0f6fed3",
   "metadata": {},
   "outputs": [
    {
     "name": "stdout",
     "output_type": "stream",
     "text": [
      "862\n",
      "903\n"
     ]
    }
   ],
   "source": [
    "for col in [\"q22\", \"q23\"]:\n",
    "    print(count_non_response(df[col]))"
   ]
  },
  {
   "cell_type": "code",
   "execution_count": 18,
   "id": "bbd0a04c",
   "metadata": {},
   "outputs": [
    {
     "data": {
      "image/png": "[encoded data removed]",
      "text/plain": [
       "<Figure size 576x396 with 1 Axes>"
      ]
     },
     "metadata": {
      "needs_background": "light"
     },
     "output_type": "display_data"
    }
   ],
   "source": [
    "q22_q23_conversion = {1: \"government employee\", \n",
    "                  2: \"private sector employee\",\n",
    "                  3: \"self-employed\", \n",
    "                  4: \"employer\", \n",
    "                  96: \"others\"}\n",
    "\n",
    "industry_q22 = df.q22.apply(lambda x:np.NaN if x < 0 else x)\n",
    "industry_pre = mapped_value_counts(industry_q22, q22_q23_conversion).round(4) * 100\n",
    "\n",
    "industry_q23 = df.q23.apply(lambda x:np.NaN if x < 0 else x)\n",
    "industry_during = mapped_value_counts(industry_q23, q22_q23_conversion).round(4) * 100\n",
    "\n",
    "pd.DataFrame({'pre': industry_pre,'during':industry_during}).plot(kind=\"barh\", colormap=\"viridis\")\n",
    "plt.show()"
   ]
  },
  {
   "cell_type": "markdown",
   "id": "34bd7d44",
   "metadata": {},
   "source": [
    "### 6. Income\n",
    "\n",
    "We want to create a frequency table of the respondents according to their income grouped into quartiles. Two variables are of interest--`q29` for before the pandemic and `q30` for after the pandemic. There were 670 and 669 non-responses respectively. "
   ]
  },
  {
   "cell_type": "code",
   "execution_count": 19,
   "id": "7e9abe27",
   "metadata": {},
   "outputs": [
    {
     "name": "stdout",
     "output_type": "stream",
     "text": [
      "non-responses for q29: 670\n",
      "non-responses for q30: 669\n"
     ]
    }
   ],
   "source": [
    "income_var = [\"q29\", \"q30\"]\n",
    "for col in income_var:\n",
    "    # Total responses\n",
    "    print(\"non-responses for {}: {}\".format(col, count_non_response(df[col])))"
   ]
  },
  {
   "cell_type": "markdown",
   "id": "45abce9f",
   "metadata": {},
   "source": [
    "The mean income before the pandemic is 1,1160.87 GEL, while it is noticably lower after the pandemic at 869.34 GEL. Let's generate a boxplot of these two variables."
   ]
  },
  {
   "cell_type": "code",
   "execution_count": 20,
   "id": "5c54a1bb",
   "metadata": {},
   "outputs": [
    {
     "name": "stdout",
     "output_type": "stream",
     "text": [
      "mean income for q29 is 1160.87 GEL.\n",
      "mean income for q30 is 869.34 GEL.\n"
     ]
    },
    {
     "data": {
      "image/png": "[encoded data removed]",
      "text/plain": [
       "<Figure size 360x504 with 2 Axes>"
      ]
     },
     "metadata": {
      "needs_background": "light"
     },
     "output_type": "display_data"
    }
   ],
   "source": [
    "# What is the mean income?\n",
    "for col in income_var:\n",
    "    income = df[col].apply(lambda x: np.NaN if x < 0 else x).mean().round(2)\n",
    "    print(\"mean income for {} is {} GEL.\".format(col, income))\n",
    "\n",
    "# Create boxplots for pre-pandemic (q29) and during pandemic (q30)\n",
    "fig, (ax1, ax2) = plt.subplots(1,2)\n",
    "fig.set_figheight(7); fig.set_figwidth(5)\n",
    "# Colormap\n",
    "plt.set_cmap(\"viridis\")\n",
    "\n",
    "# Generate series\n",
    "income_q29 = df.q29.apply(lambda x: np.NaN if x < 0 else x)\n",
    "income_q30 = df.q30.apply(lambda x: np.NaN if x < 0 else x)\n",
    "\n",
    "# Plot q29 and q30 as boxplots\n",
    "ax1.boxplot(income_q29[~income_q29.isna()])\n",
    "ax1.set_title(\"Pre-pandemic\") # Set title\n",
    "ax1.set_ylabel(\"GEL\") # Set ylabel\n",
    "ax2.boxplot(income_q30[~income_q30.isna()])\n",
    "ax2.set_title(\"During pandemic\") # set title\n",
    "\n",
    "# Share Y axis tick labels\n",
    "plt.setp(ax2.get_yticklabels(), visible=False)\n",
    "# Remove X axis ticks\n",
    "for ax in (ax1, ax2):\n",
    "    ax.set_xticks([])\n",
    "\n",
    "# Show figure\n",
    "plt.show()"
   ]
  },
  {
   "cell_type": "markdown",
   "id": "ba14073f",
   "metadata": {},
   "source": [
    "Since the difference is noticably large, let's take this opportunity to test the statistical significance of this difference--the relative t-test. The p-value was shown to be indeed lower than a confidence level of 5 percent. This means that, indeed, the pandemic somehow significantly lowered the respondents' incomes. "
   ]
  },
  {
   "cell_type": "code",
   "execution_count": 21,
   "id": "1114001c",
   "metadata": {},
   "outputs": [
    {
     "data": {
      "text/plain": [
       "True"
      ]
     },
     "execution_count": 21,
     "metadata": {},
     "output_type": "execute_result"
    }
   ],
   "source": [
    "# Importing the relative t-test function from scipy.stats\n",
    "from scipy.stats import ttest_rel\n",
    "\n",
    "# Conduct the t-test\n",
    "result = ttest_rel(df.q29, df.q30)\n",
    "\n",
    "# Compare the p-value to an alpha of 0.05.\n",
    "result.pvalue < 0.05"
   ]
  },
  {
   "cell_type": "markdown",
   "id": "8f3e27eb",
   "metadata": {},
   "source": [
    "Next, we try to get the quantiles of the two variables. We see the same general pattern--since incomes generally decreased during the pandemic, w see the 25, 50, and 75 percent quantile also move down from 500, 800, and 1500 to 300, 540, and 1000 respectively. "
   ]
  },
  {
   "cell_type": "code",
   "execution_count": 22,
   "id": "02aff792",
   "metadata": {},
   "outputs": [
    {
     "data": {
      "text/plain": [
       "0.25     500.0\n",
       "0.50     800.0\n",
       "0.75    1500.0\n",
       "Name: q29, dtype: float64"
      ]
     },
     "metadata": {},
     "output_type": "display_data"
    },
    {
     "data": {
      "text/plain": [
       "0.25     300.0\n",
       "0.50     540.0\n",
       "0.75    1000.0\n",
       "Name: q30, dtype: float64"
      ]
     },
     "metadata": {},
     "output_type": "display_data"
    }
   ],
   "source": [
    "# Income quartiles\n",
    "for col in income_var:\n",
    "    income_quantile = df[col].apply(lambda x: np.NaN if x < 0 else x).quantile([.25,.5,.75])\n",
    "    display(income_quantile)"
   ]
  }
 ],
 "metadata": {
  "kernelspec": {
   "display_name": "Python 3 (ipykernel)",
   "language": "python",
   "name": "python3"
  },
  "language_info": {
   "codemirror_mode": {
    "name": "ipython",
    "version": 3
   },
   "file_extension": ".py",
   "mimetype": "text/x-python",
   "name": "python",
   "nbconvert_exporter": "python",
   "pygments_lexer": "ipython3",
   "version": "3.8.2"
  }
 },
 "nbformat": 4,
 "nbformat_minor": 5
}
